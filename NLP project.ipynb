{
  "nbformat": 4,
  "nbformat_minor": 0,
  "metadata": {
    "colab": {
      "name": "NLP.ipynb",
      "provenance": [],
      "authorship_tag": "ABX9TyPKJapM5dHET8Gh5euxSeI9",
      "include_colab_link": true
    },
    "kernelspec": {
      "name": "python3",
      "display_name": "Python 3"
    },
    "language_info": {
      "name": "python"
    },
    "accelerator": "GPU"
  },
  "cells": [
    {
      "cell_type": "markdown",
      "metadata": {
        "id": "view-in-github",
        "colab_type": "text"
      },
      "source": [
        "<a href=\"https://colab.research.google.com/github/shailza969/NLP-project/blob/main/NLP%20project.ipynb\" target=\"_parent\"><img src=\"https://colab.research.google.com/assets/colab-badge.svg\" alt=\"Open In Colab\"/></a>"
      ]
    },
    {
      "cell_type": "code",
      "metadata": {
        "id": "fZP3DzBKBr4I"
      },
      "source": [
        "import numpy as np\n",
        "import matplotlib.pyplot as plt\n",
        "import gensim\n",
        "from gensim.models import word2vec, KeyedVectors\n",
        "from sklearn.metrics.pairwise import cosine_similarity"
      ],
      "execution_count": null,
      "outputs": []
    },
    {
      "cell_type": "code",
      "metadata": {
        "colab": {
          "base_uri": "https://localhost:8080/"
        },
        "id": "2Zm0mjw_Ck2D",
        "outputId": "3d57c311-8744-4495-a4db-e6d4e2124fed"
      },
      "source": [
        "! wget -c \"https://s3.amazonaws.com/dl4j-distribution/GoogleNews-vectors-negative300.bin.gz\""
      ],
      "execution_count": null,
      "outputs": [
        {
          "output_type": "stream",
          "text": [
            "--2021-06-22 16:48:00--  https://s3.amazonaws.com/dl4j-distribution/GoogleNews-vectors-negative300.bin.gz\n",
            "Resolving s3.amazonaws.com (s3.amazonaws.com)... 52.217.78.110\n",
            "Connecting to s3.amazonaws.com (s3.amazonaws.com)|52.217.78.110|:443... connected.\n",
            "HTTP request sent, awaiting response... 200 OK\n",
            "Length: 1647046227 (1.5G) [application/x-gzip]\n",
            "Saving to: ‘GoogleNews-vectors-negative300.bin.gz’\n",
            "\n",
            "GoogleNews-vectors- 100%[===================>]   1.53G  89.6MB/s    in 21s     \n",
            "\n",
            "2021-06-22 16:48:21 (74.8 MB/s) - ‘GoogleNews-vectors-negative300.bin.gz’ saved [1647046227/1647046227]\n",
            "\n"
          ],
          "name": "stdout"
        }
      ]
    },
    {
      "cell_type": "code",
      "metadata": {
        "id": "BvEWvuQ_C8d-"
      },
      "source": [
        "! gzip -d GoogleNews-vectors-negative300.bin.gz"
      ],
      "execution_count": null,
      "outputs": []
    },
    {
      "cell_type": "code",
      "metadata": {
        "id": "RwlnKckYEDDO"
      },
      "source": [
        "word_vector= KeyedVectors.load_word2vec_format(\n",
        "    '/content/GoogleNews-vectors-negative300.bin', binary=True)"
      ],
      "execution_count": null,
      "outputs": []
    },
    {
      "cell_type": "code",
      "metadata": {
        "colab": {
          "base_uri": "https://localhost:8080/"
        },
        "id": "gEVS4uO-Ea3X",
        "outputId": "c264f5cc-33b7-41a8-9912-ede42af04f54"
      },
      "source": [
        "word_vector['apple'].shape"
      ],
      "execution_count": null,
      "outputs": [
        {
          "output_type": "execute_result",
          "data": {
            "text/plain": [
              "(300,)"
            ]
          },
          "metadata": {
            "tags": []
          },
          "execution_count": 6
        }
      ]
    },
    {
      "cell_type": "code",
      "metadata": {
        "id": "CC4UR50mE5_B"
      },
      "source": [
        "v_apple = word_vector['apple']\n",
        "v_banana = word_vector['banana']"
      ],
      "execution_count": null,
      "outputs": []
    },
    {
      "cell_type": "code",
      "metadata": {
        "colab": {
          "base_uri": "https://localhost:8080/"
        },
        "id": "ybZvBri6FOY-",
        "outputId": "cec66d8e-3c4a-4f76-df31-f16069068fea"
      },
      "source": [
        "cosine_similarity([v_apple], [v_banana])"
      ],
      "execution_count": null,
      "outputs": [
        {
          "output_type": "execute_result",
          "data": {
            "text/plain": [
              "array([[0.5318406]], dtype=float32)"
            ]
          },
          "metadata": {
            "tags": []
          },
          "execution_count": 8
        }
      ]
    },
    {
      "cell_type": "markdown",
      "metadata": {
        "id": "07WQwa8V9hj5"
      },
      "source": [
        "# FINDING ODD ONE OUT\n"
      ]
    },
    {
      "cell_type": "code",
      "metadata": {
        "id": "kXYgCjyCFTHt"
      },
      "source": [
        "def odd_one_out(words):\n",
        "  all_words_vectors = [word_vector[w] for w in words]\n",
        "  avg_vector = np.mean(all_words_vectors, axis =0)\n",
        "  min = 1.0\n",
        "  odd_word = None\n",
        "  for w in words:\n",
        "    temp_sim = cosine_similarity([word_vector[w]], [avg_vector])\n",
        "    if temp_sim < min:\n",
        "      min = temp_sim\n",
        "      odd_word = w\n",
        "  return odd_word"
      ],
      "execution_count": null,
      "outputs": []
    },
    {
      "cell_type": "code",
      "metadata": {
        "colab": {
          "base_uri": "https://localhost:8080/",
          "height": 35
        },
        "id": "anj8NgHTnzif",
        "outputId": "27315fd4-b221-4b55-8674-3d68e0b05fda"
      },
      "source": [
        "odd_one_out(['orange', 'mango', 'party'])"
      ],
      "execution_count": null,
      "outputs": [
        {
          "output_type": "execute_result",
          "data": {
            "application/vnd.google.colaboratory.intrinsic+json": {
              "type": "string"
            },
            "text/plain": [
              "'party'"
            ]
          },
          "metadata": {
            "tags": []
          },
          "execution_count": 17
        }
      ]
    },
    {
      "cell_type": "code",
      "metadata": {
        "colab": {
          "base_uri": "https://localhost:8080/",
          "height": 35
        },
        "id": "RrxazmZTpuBt",
        "outputId": "84ea4da3-5541-45ec-dccb-7e0cfb2b98fe"
      },
      "source": [
        "odd_one_out(['dog','cat','lion','car'])"
      ],
      "execution_count": null,
      "outputs": [
        {
          "output_type": "execute_result",
          "data": {
            "application/vnd.google.colaboratory.intrinsic+json": {
              "type": "string"
            },
            "text/plain": [
              "'car'"
            ]
          },
          "metadata": {
            "tags": []
          },
          "execution_count": 19
        }
      ]
    },
    {
      "cell_type": "markdown",
      "metadata": {
        "id": "eivX5SH4rdm5"
      },
      "source": [
        "# Word Analogy"
      ]
    },
    {
      "cell_type": "code",
      "metadata": {
        "id": "QUqD1YVFqZIb"
      },
      "source": [
        "def word_analogy(a,b,c,word_vector):\n",
        "  wv_a, wv_b, wv_c = word_vector[a.lower()], word_vector[b.lower()],  word_vector[c.lower()]\n",
        "  max_sim =-1.0\n",
        "  words = word_vector.vocab.keys()\n",
        "  temp_word = None\n",
        "\n",
        "  for w in words:\n",
        "    if w in [a,b,c]:\n",
        "      continue\n",
        "\n",
        "    wv = word_vector[w]\n",
        "    temp_sim = cosine_similarity([wv_b-wv_a],[wv-wv_c])\n",
        "\n",
        "    if temp_sim >max_sim:\n",
        "      max_sim = temp_sim\n",
        "      temp_word = w\n",
        "  return temp_word"
      ],
      "execution_count": null,
      "outputs": []
    },
    {
      "cell_type": "code",
      "metadata": {
        "colab": {
          "base_uri": "https://localhost:8080/",
          "height": 35
        },
        "id": "r7bH-xqVrpHM",
        "outputId": "08db03a8-dbce-456e-e028-6d303a2554a4"
      },
      "source": [
        "triod = ['king', 'queen', 'price']\n",
        "word_analogy(*triod, word_vector)"
      ],
      "execution_count": null,
      "outputs": [
        {
          "output_type": "execute_result",
          "data": {
            "application/vnd.google.colaboratory.intrinsic+json": {
              "type": "string"
            },
            "text/plain": [
              "'glammed'"
            ]
          },
          "metadata": {
            "tags": []
          },
          "execution_count": 65
        }
      ]
    },
    {
      "cell_type": "markdown",
      "metadata": {
        "id": "d8RPN0eP9t6_"
      },
      "source": [
        "# CREATING OWN WORD TO VECTOR MODEL\n"
      ]
    },
    {
      "cell_type": "code",
      "metadata": {
        "id": "yCZje8G6t0kJ"
      },
      "source": [
        "import nltk\n",
        "from nltk.corpus import stopwords\n"
      ],
      "execution_count": null,
      "outputs": []
    },
    {
      "cell_type": "code",
      "metadata": {
        "colab": {
          "base_uri": "https://localhost:8080/"
        },
        "id": "HTIiFIkmuRmf",
        "outputId": "4aa14fe0-bc74-466e-8ad4-eaaf021c0709"
      },
      "source": [
        "nltk.download('stopwords')\n",
        "nltk.download('punkt')"
      ],
      "execution_count": null,
      "outputs": [
        {
          "output_type": "stream",
          "text": [
            "[nltk_data] Downloading package stopwords to /root/nltk_data...\n",
            "[nltk_data]   Package stopwords is already up-to-date!\n",
            "[nltk_data] Downloading package punkt to /root/nltk_data...\n",
            "[nltk_data]   Unzipping tokenizers/punkt.zip.\n"
          ],
          "name": "stdout"
        },
        {
          "output_type": "execute_result",
          "data": {
            "text/plain": [
              "True"
            ]
          },
          "metadata": {
            "tags": []
          },
          "execution_count": 34
        }
      ]
    },
    {
      "cell_type": "code",
      "metadata": {
        "colab": {
          "base_uri": "https://localhost:8080/"
        },
        "id": "TrOX3oUuuVje",
        "outputId": "e4a8faf5-303a-4ef6-a23a-5c7d21219d3b"
      },
      "source": [
        "print(stopwords.words('english'))"
      ],
      "execution_count": null,
      "outputs": [
        {
          "output_type": "stream",
          "text": [
            "['i', 'me', 'my', 'myself', 'we', 'our', 'ours', 'ourselves', 'you', \"you're\", \"you've\", \"you'll\", \"you'd\", 'your', 'yours', 'yourself', 'yourselves', 'he', 'him', 'his', 'himself', 'she', \"she's\", 'her', 'hers', 'herself', 'it', \"it's\", 'its', 'itself', 'they', 'them', 'their', 'theirs', 'themselves', 'what', 'which', 'who', 'whom', 'this', 'that', \"that'll\", 'these', 'those', 'am', 'is', 'are', 'was', 'were', 'be', 'been', 'being', 'have', 'has', 'had', 'having', 'do', 'does', 'did', 'doing', 'a', 'an', 'the', 'and', 'but', 'if', 'or', 'because', 'as', 'until', 'while', 'of', 'at', 'by', 'for', 'with', 'about', 'against', 'between', 'into', 'through', 'during', 'before', 'after', 'above', 'below', 'to', 'from', 'up', 'down', 'in', 'out', 'on', 'off', 'over', 'under', 'again', 'further', 'then', 'once', 'here', 'there', 'when', 'where', 'why', 'how', 'all', 'any', 'both', 'each', 'few', 'more', 'most', 'other', 'some', 'such', 'no', 'nor', 'not', 'only', 'own', 'same', 'so', 'than', 'too', 'very', 's', 't', 'can', 'will', 'just', 'don', \"don't\", 'should', \"should've\", 'now', 'd', 'll', 'm', 'o', 're', 've', 'y', 'ain', 'aren', \"aren't\", 'couldn', \"couldn't\", 'didn', \"didn't\", 'doesn', \"doesn't\", 'hadn', \"hadn't\", 'hasn', \"hasn't\", 'haven', \"haven't\", 'isn', \"isn't\", 'ma', 'mightn', \"mightn't\", 'mustn', \"mustn't\", 'needn', \"needn't\", 'shan', \"shan't\", 'shouldn', \"shouldn't\", 'wasn', \"wasn't\", 'weren', \"weren't\", 'won', \"won't\", 'wouldn', \"wouldn't\"]\n"
          ],
          "name": "stdout"
        }
      ]
    },
    {
      "cell_type": "code",
      "metadata": {
        "id": "ricos24bub5i"
      },
      "source": [
        "def read_file(path):\n",
        "  f = open(path, 'r', encoding = 'utf-8')\n",
        "  text = f.read()\n",
        "  sent = nltk.sent_tokenize(text)\n",
        "  data = []\n",
        "\n",
        "  for s in sent:\n",
        "    words = nltk.word_tokenize(s)\n",
        "    words = [w.lower() for w in words if len(w)>2 and w not in stopwords.words('english') ]\n",
        "    data.append(words)\n",
        "  return data"
      ],
      "execution_count": null,
      "outputs": []
    },
    {
      "cell_type": "code",
      "metadata": {
        "id": "8ufTLI-4u8xV"
      },
      "source": [
        "text = read_file('/content/bollywood.txt')\n",
        "text"
      ],
      "execution_count": null,
      "outputs": []
    },
    {
      "cell_type": "code",
      "metadata": {
        "id": "GTx-p4UBvBfA"
      },
      "source": [
        "from gensim.models import Word2Vec"
      ],
      "execution_count": null,
      "outputs": []
    },
    {
      "cell_type": "code",
      "metadata": {
        "id": "aTW0_zmJxoDV"
      },
      "source": [
        "model = Word2Vec(text, size = 300, window = 10, min_count=1)"
      ],
      "execution_count": null,
      "outputs": []
    },
    {
      "cell_type": "code",
      "metadata": {
        "id": "94lcy1umx7Us"
      },
      "source": [
        "actors = ['alia', 'ranbir', 'varun', 'farhan', 'shibani', 'malaika', 'arjun']\n",
        "def predict_actor(a,b,c, word_vector):\n",
        "  wv_a, wv_b, wv_c = word_vector[a.lower()], word_vector[b.lower()],  word_vector[c.lower()]\n",
        "  max_sim =-1.0\n",
        "  words = actors\n",
        "  temp_word = None\n",
        "\n",
        "  for w in words:\n",
        "    if w in [a,b,c]:\n",
        "      continue\n",
        "\n",
        "    wv = word_vector[w]\n",
        "    temp_sim = cosine_similarity([wv_b-wv_a],[wv-wv_c])\n",
        "\n",
        "    if temp_sim >max_sim:\n",
        "      max_sim = temp_sim\n",
        "      temp_word = w\n",
        "  return temp_word"
      ],
      "execution_count": null,
      "outputs": []
    },
    {
      "cell_type": "code",
      "metadata": {
        "colab": {
          "base_uri": "https://localhost:8080/",
          "height": 35
        },
        "id": "15pBqS0-yviH",
        "outputId": "c01dfc41-dc30-457b-a019-6eae9665c32e"
      },
      "source": [
        "triad = ['ranbir', 'alia', 'arjun']\n",
        "predict_actor(*triad, model.wv)"
      ],
      "execution_count": null,
      "outputs": [
        {
          "output_type": "execute_result",
          "data": {
            "application/vnd.google.colaboratory.intrinsic+json": {
              "type": "string"
            },
            "text/plain": [
              "'malaika'"
            ]
          },
          "metadata": {
            "tags": []
          },
          "execution_count": 63
        }
      ]
    },
    {
      "cell_type": "code",
      "metadata": {
        "colab": {
          "base_uri": "https://localhost:8080/",
          "height": 35
        },
        "id": "Vl_B1F1rzeuq",
        "outputId": "71ee2b4f-9b1d-4d1c-d875-bbc44309bea1"
      },
      "source": [
        "triad = ['arjun', 'malaika','ranbir']\n",
        "predict_actor(*triad, model.wv)"
      ],
      "execution_count": null,
      "outputs": [
        {
          "output_type": "execute_result",
          "data": {
            "application/vnd.google.colaboratory.intrinsic+json": {
              "type": "string"
            },
            "text/plain": [
              "'alia'"
            ]
          },
          "metadata": {
            "tags": []
          },
          "execution_count": 64
        }
      ]
    },
    {
      "cell_type": "code",
      "metadata": {
        "id": "4Akv6YMG0Soe"
      },
      "source": [
        ""
      ],
      "execution_count": null,
      "outputs": []
    }
  ]
}